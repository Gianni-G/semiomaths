{
 "cells": [
  {
   "cell_type": "code",
   "execution_count": 4,
   "metadata": {},
   "outputs": [
    {
     "data": {
      "text/plain": [
       "['#3b4cc0',\n",
       " '#4155c8',\n",
       " '#475ed0',\n",
       " '#4d67d7',\n",
       " '#5470de',\n",
       " '#5a78e4',\n",
       " '#6181e9',\n",
       " '#6889ee',\n",
       " '#6f91f2',\n",
       " '#7699f6',\n",
       " '#7da0f9',\n",
       " '#84a7fc',\n",
       " '#8baefd',\n",
       " '#92b4fe',\n",
       " '#9abaff',\n",
       " '#a1c0ff',\n",
       " '#a8c5fe',\n",
       " '#afcafc',\n",
       " '#b6cefa',\n",
       " '#bcd2f7',\n",
       " '#c3d5f4',\n",
       " '#c9d8ef',\n",
       " '#cfdaeb',\n",
       " '#d5dbe6',\n",
       " '#dadce0',\n",
       " '#dfdbd9',\n",
       " '#e5d9d2',\n",
       " '#e9d5ca',\n",
       " '#edd1c2',\n",
       " '#f1cdba',\n",
       " '#f3c8b2',\n",
       " '#f5c2aa',\n",
       " '#f6bca2',\n",
       " '#f7b699',\n",
       " '#f7af91',\n",
       " '#f7a789',\n",
       " '#f5a081',\n",
       " '#f49879',\n",
       " '#f18f71',\n",
       " '#ee8669',\n",
       " '#eb7d62',\n",
       " '#e7735a',\n",
       " '#e26953',\n",
       " '#dd5f4c',\n",
       " '#d75445',\n",
       " '#d1493e',\n",
       " '#ca3d38',\n",
       " '#c32f32',\n",
       " '#bc1c2c',\n",
       " '#b40426']"
      ]
     },
     "execution_count": 4,
     "metadata": {},
     "output_type": "execute_result"
    }
   ],
   "source": [
    "from pylab import *\n",
    "\n",
    "cmap = cm.get_cmap('coolwarm', 50)    # PiYG\n",
    "\n",
    "color_list = []\n",
    "for i in range(cmap.N):\n",
    "    rgba = cmap(i)\n",
    "    # rgb2hex accepts rgb or rgba\n",
    "    color_list.append(matplotlib.colors.rgb2hex(rgba))\n",
    "color_list"
   ]
  },
  {
   "cell_type": "code",
   "execution_count": null,
   "metadata": {},
   "outputs": [],
   "source": []
  }
 ],
 "metadata": {
  "kernelspec": {
   "display_name": "Python 3",
   "language": "python",
   "name": "python3"
  },
  "language_info": {
   "codemirror_mode": {
    "name": "ipython",
    "version": 3
   },
   "file_extension": ".py",
   "mimetype": "text/x-python",
   "name": "python",
   "nbconvert_exporter": "python",
   "pygments_lexer": "ipython3",
   "version": "3.9.16 (main, Dec  7 2022, 10:16:11) \n[Clang 14.0.0 (clang-1400.0.29.202)]"
  },
  "orig_nbformat": 4,
  "vscode": {
   "interpreter": {
    "hash": "397704579725e15f5c7cb49fe5f0341eb7531c82d19f2c29d197e8b64ab5776b"
   }
  }
 },
 "nbformat": 4,
 "nbformat_minor": 2
}
