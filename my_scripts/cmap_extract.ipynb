{
 "cells": [
  {
   "cell_type": "code",
   "execution_count": 1,
   "metadata": {},
   "outputs": [
    {
     "data": {
      "text/plain": [
       "['#f7fcf0',\n",
       " '#f3fbed',\n",
       " '#eff9e9',\n",
       " '#ecf8e6',\n",
       " '#e8f6e2',\n",
       " '#e4f5df',\n",
       " '#e0f3db',\n",
       " '#ddf2d8',\n",
       " '#daf1d4',\n",
       " '#d7efd1',\n",
       " '#d3eecd',\n",
       " '#d0edc9',\n",
       " '#cdebc6',\n",
       " '#c8e9c3',\n",
       " '#c2e7c0',\n",
       " '#bce5be',\n",
       " '#b6e2bb',\n",
       " '#b0e0b9',\n",
       " '#aadeb6',\n",
       " '#a3dbb7',\n",
       " '#9cd8b9',\n",
       " '#95d6bb',\n",
       " '#8dd3be',\n",
       " '#86d0c0',\n",
       " '#7fcdc3',\n",
       " '#77cac5',\n",
       " '#70c6c8',\n",
       " '#69c2ca',\n",
       " '#61becd',\n",
       " '#5abacf',\n",
       " '#53b6d1',\n",
       " '#4cb1d2',\n",
       " '#46aace',\n",
       " '#40a4cb',\n",
       " '#3b9ec7',\n",
       " '#3597c4',\n",
       " '#2f91c1',\n",
       " '#2a8bbd',\n",
       " '#2485ba',\n",
       " '#1e7fb7',\n",
       " '#1879b4',\n",
       " '#1373b2',\n",
       " '#0d6daf',\n",
       " '#0867ab',\n",
       " '#0861a4',\n",
       " '#085a9d',\n",
       " '#085496',\n",
       " '#084d8f',\n",
       " '#084788',\n",
       " '#084081']"
      ]
     },
     "execution_count": 1,
     "metadata": {},
     "output_type": "execute_result"
    }
   ],
   "source": [
    "from pylab import *\n",
    "\n",
    "cmap = cm.get_cmap('GnBu', 50)    # PiYG\n",
    "\n",
    "color_list = []\n",
    "for i in range(cmap.N):\n",
    "    rgba = cmap(i)\n",
    "    # rgb2hex accepts rgb or rgba\n",
    "    color_list.append(matplotlib.colors.rgb2hex(rgba))\n",
    "color_list"
   ]
  },
  {
   "cell_type": "code",
   "execution_count": null,
   "metadata": {},
   "outputs": [],
   "source": []
  }
 ],
 "metadata": {
  "kernelspec": {
   "display_name": "Python 3",
   "language": "python",
   "name": "python3"
  },
  "language_info": {
   "codemirror_mode": {
    "name": "ipython",
    "version": 3
   },
   "file_extension": ".py",
   "mimetype": "text/x-python",
   "name": "python",
   "nbconvert_exporter": "python",
   "pygments_lexer": "ipython3",
   "version": "3.9.16"
  },
  "orig_nbformat": 4,
  "vscode": {
   "interpreter": {
    "hash": "397704579725e15f5c7cb49fe5f0341eb7531c82d19f2c29d197e8b64ab5776b"
   }
  }
 },
 "nbformat": 4,
 "nbformat_minor": 2
}
